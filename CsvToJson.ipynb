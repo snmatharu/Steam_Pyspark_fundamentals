{
 "cells": [
  {
   "cell_type": "code",
   "execution_count": 2,
   "metadata": {},
   "outputs": [
    {
     "name": "stderr",
     "output_type": "stream",
     "text": [
      "C:\\Users\\matha\\AppData\\Local\\Temp\\ipykernel_19844\\114629912.py:7: ParserWarning: Length of header or names does not match length of data. This leads to a loss of data with index_col=False.\n",
      "  df = pd.read_csv(csv_file_path,index_col=False)\n"
     ]
    },
    {
     "name": "stdout",
     "output_type": "stream",
     "text": [
      "CSV file 'games.csv' has been successfully converted to JSON and saved as 'games1.json'.\n"
     ]
    }
   ],
   "source": [
    "import pandas as pd\n",
    "\n",
    "# Specify the path to your CSV file\n",
    "csv_file_path = 'games.csv'\n",
    "\n",
    "# Read the CSV file into a DataFrame\n",
    "df = pd.read_csv(csv_file_path,index_col=False)\n",
    "\n",
    "# Specify the path to save the JSON file\n",
    "json_file_path = 'games1.json'\n",
    "\n",
    "# Convert the DataFrame to a JSON file\n",
    "df.to_json(json_file_path, orient='records', indent=4)  # 'indent=4' for pretty printing\n",
    "\n",
    "# Print a confirmation message\n",
    "print(f\"CSV file '{csv_file_path}' has been successfully converted to JSON and saved as '{json_file_path}'.\")\n"
   ]
  },
  {
   "cell_type": "code",
   "execution_count": null,
   "metadata": {},
   "outputs": [],
   "source": []
  }
 ],
 "metadata": {
  "kernelspec": {
   "display_name": ".venv",
   "language": "python",
   "name": "python3"
  },
  "language_info": {
   "codemirror_mode": {
    "name": "ipython",
    "version": 3
   },
   "file_extension": ".py",
   "mimetype": "text/x-python",
   "name": "python",
   "nbconvert_exporter": "python",
   "pygments_lexer": "ipython3",
   "version": "3.12.1"
  }
 },
 "nbformat": 4,
 "nbformat_minor": 2
}
